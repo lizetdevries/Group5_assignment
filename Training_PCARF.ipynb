{
 "cells": [
  {
   "cell_type": "markdown",
   "metadata": {},
   "source": [
    "# Training of PCA & RF !! NIET OPNIEUW RUNNEN"
   ]
  },
  {
   "cell_type": "markdown",
   "metadata": {},
   "source": [
    "## Import Modules"
   ]
  },
  {
   "cell_type": "code",
   "execution_count": 1,
   "metadata": {},
   "outputs": [],
   "source": [
    "# Import data module\n",
    "from adni.load_data import load_data\n",
    "# Import needed modules\n",
    "import pandas as pd\n",
    "import numpy as np\n",
    "import matplotlib.pyplot as plt\n",
    "import seaborn as sns\n",
    "from sklearn.model_selection import train_test_split\n",
    "from sklearn.pipeline import Pipeline\n",
    "from sklearn.preprocessing import RobustScaler\n",
    "from sklearn.preprocessing import StandardScaler\n",
    "from sklearn.decomposition import PCA\n",
    "from sklearn.model_selection import RandomizedSearchCV \n",
    "from sklearn.model_selection import GridSearchCV\n",
    "from sklearn.ensemble import RandomForestClassifier\n",
    "from sklearn.metrics import roc_auc_score \n",
    "from sklearn import metrics\n",
    "from sklearn.metrics import RocCurveDisplay\n"
   ]
  },
  {
   "cell_type": "markdown",
   "metadata": {},
   "source": [
    "## Data loading and cleaning\n",
    "\n",
    "Below are functions to load the dataset of your choice. After that, it is all up to you to create and evaluate a classification method. Beware, there may be missing values in these datasets. Good luck!"
   ]
  },
  {
   "cell_type": "markdown",
   "metadata": {},
   "source": [
    "Data loading"
   ]
  },
  {
   "cell_type": "code",
   "execution_count": 2,
   "metadata": {
    "colab": {},
    "colab_type": "code",
    "id": "-NE_fTbKGe5z"
   },
   "outputs": [
    {
     "name": "stdout",
     "output_type": "stream",
     "text": [
      "The number of samples: 855\n",
      "The number of columns: 268\n"
     ]
    }
   ],
   "source": [
    "# Data loading \n",
    "data = load_data()\n",
    "print(f'The number of samples: {len(data.index)}')\n",
    "print(f'The number of columns: {len(data.columns)}')\n",
    "df= pd.DataFrame(data)\n",
    "\n",
    "# Reset index, add patient ID's as column\n",
    "df.reset_index(inplace=True)\n",
    "df = df.rename(columns = {'index':'ID'})\n",
    "\n",
    "# set seed"
   ]
  },
  {
   "cell_type": "markdown",
   "metadata": {},
   "source": [
    "Data Cleaning"
   ]
  },
  {
   "cell_type": "code",
   "execution_count": 3,
   "metadata": {},
   "outputs": [
    {
     "name": "stdout",
     "output_type": "stream",
     "text": [
      "The number of samples after cleaning + std: 855\n",
      "The number of columns after cleaning + std: 269\n",
      "519\n",
      "336\n"
     ]
    },
    {
     "name": "stderr",
     "output_type": "stream",
     "text": [
      "C:\\Users\\evala\\AppData\\Local\\Temp\\ipykernel_29828\\409474113.py:5: FutureWarning: Dropping of nuisance columns in DataFrame reductions (with 'numeric_only=None') is deprecated; in a future version this will raise TypeError.  Select only valid columns before calling the reduction.\n",
      "  df.drop(df.std()[df.std() == 0].index.values, axis = 1)\n"
     ]
    }
   ],
   "source": [
    "# Check wheter there is missing data (NaN)\n",
    "df.notnull().values.any() # Geen missing data\n",
    "\n",
    "# Als SD 0 dan feature weggooien\n",
    "df.drop(df.std()[df.std() == 0].index.values, axis = 1)\n",
    "\n",
    "print(f'The number of samples after cleaning + std: {len(df.index)}')\n",
    "print(f'The number of columns after cleaning + std: {len(df.columns)}')\n",
    "\n",
    "# Count number of patients labeled with AD or CN\n",
    "df_ad = df[df['label']=='AD']\n",
    "df_cn = df[df['label']=='CN']\n",
    "print(len(df_ad))\n",
    "print(len(df_cn))\n",
    "\n",
    "df['label']= df['label'].replace(['AD'],1) \n",
    "df['label']= df['label'].replace(['CN'],0) \n",
    "\n",
    "# Count number of duplicated patiient ID's\n",
    "df.index.duplicated().sum() # ID's are indices in df\n",
    "X = df.drop('ID', axis=1) # Drop patient ID)"
   ]
  },
  {
   "cell_type": "markdown",
   "metadata": {},
   "source": [
    "## Data split in test, train and validation set "
   ]
  },
  {
   "cell_type": "markdown",
   "metadata": {},
   "source": [
    "Split data in test-set & train/validation-set"
   ]
  },
  {
   "cell_type": "code",
   "execution_count": 4,
   "metadata": {},
   "outputs": [],
   "source": [
    "# Test / Train split: stratified op label --> nagaan of we dit ook willen\n",
    "y = df['label'] # Define label y (output)\n",
    "\n",
    "X_train, X_test, y_train, y_test = train_test_split(X,y, test_size= 0.25, stratify=X['label'], random_state=1)\n",
    "#X_train, X_val, y_train, y_val = train_test_split(X_train, y_train, test_size = 0.2, stratify = X_train['label'], random_state=1)\n",
    "\n",
    "# Drop labels and drop patient ID\n",
    "X_train = X_train.drop('label', axis=1)\n",
    "#X_val = X_val.drop('label', axis=1)\n",
    "X_test = X_test.drop('label', axis=1)\n",
    "X = X.drop('label', axis=1)\n",
    "\n"
   ]
  },
  {
   "cell_type": "markdown",
   "metadata": {},
   "source": [
    "# Pipeline with PCA & RF"
   ]
  },
  {
   "cell_type": "markdown",
   "metadata": {},
   "source": [
    "1. RobustScaler\n",
    "2. Feature extraction: PCA\n",
    "3. Classifier: RF "
   ]
  },
  {
   "cell_type": "code",
   "execution_count": 5,
   "metadata": {},
   "outputs": [
    {
     "name": "stdout",
     "output_type": "stream",
     "text": [
      "Best parameter (CV score=0.802):\n",
      "{'rf__n_estimators': 300, 'rf__max_depth': 30, 'pca__n_components': 53}\n"
     ]
    }
   ],
   "source": [
    "# Define steps in pipeline\n",
    "scaler = RobustScaler()         # want data heeft outliers\n",
    "# scaler = StandardScaler()\n",
    "pca = PCA()\n",
    "rf = RandomForestClassifier()\n",
    "\n",
    "# Create pipeline with steps: scaler, PCA, classifier\n",
    "pipe = Pipeline([('scaler', scaler), ('pca', pca), ('rf', rf)])\n",
    "\n",
    "# Define parameters for gridsearch: depending on which classifier\n",
    "param_grid = {\n",
    "    \"pca__n_components\": [int(x) for x in np.linspace(start = 5, stop = 200, num = 5)],\n",
    "    \"rf__n_estimators\": [int(x) for x in np.linspace(start = 100, stop = 1000, num = 10)],\n",
    "    \"rf__max_depth\": [int(x) for x in np.linspace(10, 120, num = 12)],\n",
    "}\n",
    "# Perform Grid Search on pipe\n",
    "search = RandomizedSearchCV(pipe, param_grid, n_iter = 20, cv = 5, scoring='accuracy')\n",
    "#search = GridSearchCV(pipe, param_grid, n_jobs=2)\n",
    "search.fit(X_train, y_train)\n",
    "\n",
    "# Print outcome Grid Search\n",
    "print(\"Best parameter (CV score=%0.3f):\" % search.best_score_)\n",
    "best_params = search.best_params_\n",
    "print(best_params) \n",
    "#resultscv = search.cv_results_\n",
    "#print(resultscv)\n",
    "\n",
    "pipe_after_grid = Pipeline([('scaler', scaler), ('pca', PCA((best_params['pca__n_components']))), ('rf', RandomForestClassifier(n_estimators = (best_params['rf__n_estimators']), max_depth = (best_params['rf__max_depth'])))])\n",
    "\n",
    "# Fit pipe_after_grid on data\n",
    "bst = pipe_after_grid.fit(X_train, y_train)\n",
    "\n",
    "#TEST PERFORMANCE\n",
    "# y_pred = bst.predict(X_val)\n",
    "# y_val = (np.array(y_val))\n",
    "# print(bst.score(X_val, y_val))\n",
    "\n",
    "#print(recall_score(y_val, y_pred))\n",
    "#print(precision_score(y_val, y_pred))\n"
   ]
  },
  {
   "cell_type": "code",
   "execution_count": null,
   "metadata": {},
   "outputs": [],
   "source": []
  },
  {
   "cell_type": "code",
   "execution_count": 9,
   "metadata": {},
   "outputs": [
    {
     "name": "stdout",
     "output_type": "stream",
     "text": [
      "0.7757009345794392\n",
      "0.8317307692307692\n"
     ]
    },
    {
     "data": {
      "text/plain": [
       "<sklearn.metrics._plot.roc_curve.RocCurveDisplay at 0x223b313e9d0>"
      ]
     },
     "execution_count": 9,
     "metadata": {},
     "output_type": "execute_result"
    },
    {
     "data": {
      "image/png": "[encoded data removed]",
      "text/plain": [
       "<Figure size 432x288 with 1 Axes>"
      ]
     },
     "metadata": {
      "needs_background": "light"
     },
     "output_type": "display_data"
    }
   ],
   "source": [
    "#apply trained pipe to test-set\n",
    "y_test = (np.array(y_test))\n",
    "y_pred_plot = bst.predict_proba(X_test)[:, 1]\n",
    "\n",
    "print(bst.score(X_test, y_test))\n",
    "print(roc_auc_score(y_test, y_pred_plot))\n",
    "\n",
    "# Met predictions \n",
    "RocCurveDisplay.from_predictions(y_test, y_pred_plot)"
   ]
  },
  {
   "cell_type": "markdown",
   "metadata": {},
   "source": [
    "# Feature importance"
   ]
  },
  {
   "cell_type": "code",
   "execution_count": 10,
   "metadata": {},
   "outputs": [
    {
     "ename": "AttributeError",
     "evalue": "'Pipeline' object has no attribute 'feature_importances_'",
     "output_type": "error",
     "traceback": [
      "\u001b[1;31m---------------------------------------------------------------------------\u001b[0m",
      "\u001b[1;31mAttributeError\u001b[0m                            Traceback (most recent call last)",
      "\u001b[1;32mc:\\Users\\evala\\OneDrive\\Documenten\\Master KT\\TM10007\\Group5_assignment\\Training_PCARF.ipynb Cell 18'\u001b[0m in \u001b[0;36m<module>\u001b[1;34m\u001b[0m\n\u001b[0;32m      <a href='vscode-notebook-cell:/c%3A/Users/evala/OneDrive/Documenten/Master%20KT/TM10007/Group5_assignment/Training_PCARF.ipynb#ch0000017?line=0'>1</a>\u001b[0m feats \u001b[39m=\u001b[39m {}\n\u001b[1;32m----> <a href='vscode-notebook-cell:/c%3A/Users/evala/OneDrive/Documenten/Master%20KT/TM10007/Group5_assignment/Training_PCARF.ipynb#ch0000017?line=1'>2</a>\u001b[0m \u001b[39mfor\u001b[39;00m feature, importance \u001b[39min\u001b[39;00m \u001b[39mzip\u001b[39m(data\u001b[39m.\u001b[39mcolumns, bst\u001b[39m.\u001b[39;49mfeature_importances_):\n\u001b[0;32m      <a href='vscode-notebook-cell:/c%3A/Users/evala/OneDrive/Documenten/Master%20KT/TM10007/Group5_assignment/Training_PCARF.ipynb#ch0000017?line=2'>3</a>\u001b[0m     feats[feature] \u001b[39m=\u001b[39m importance\n\u001b[0;32m      <a href='vscode-notebook-cell:/c%3A/Users/evala/OneDrive/Documenten/Master%20KT/TM10007/Group5_assignment/Training_PCARF.ipynb#ch0000017?line=4'>5</a>\u001b[0m importances \u001b[39m=\u001b[39m pd\u001b[39m.\u001b[39mDataFrame\u001b[39m.\u001b[39mfrom_dict(feats, orient\u001b[39m=\u001b[39m\u001b[39m'\u001b[39m\u001b[39mindex\u001b[39m\u001b[39m'\u001b[39m)\u001b[39m.\u001b[39mrename(columns\u001b[39m=\u001b[39m{\u001b[39m0\u001b[39m: \u001b[39m'\u001b[39m\u001b[39mGini-Importance\u001b[39m\u001b[39m'\u001b[39m})\n",
      "\u001b[1;31mAttributeError\u001b[0m: 'Pipeline' object has no attribute 'feature_importances_'"
     ]
    }
   ],
   "source": [
    "feats = {}\n",
    "for feature, importance in zip(data.columns, rf.feature_importances_):\n",
    "    feats[feature] = importance\n",
    "\n",
    "importances = pd.DataFrame.from_dict(feats, orient='index').rename(columns={0: 'Gini-Importance'})\n",
    "importances = importances.sort_values(by='Gini-Importance', ascending=False)\n",
    "importances = importances.reset_index()\n",
    "importances = importances.rename(columns={'index': 'Features'})\n",
    "\n",
    "sns.set(font_scale = 5)\n",
    "sns.set(style=\"whitegrid\", color_codes=True, font_scale = 1.7)\n",
    "fig, ax = plt.subplots()\n",
    "fig.set_size_inches(30,15)\n",
    "sns.barplot(x=importances['Gini-Importance'], y=importances['Features'], data=importances, color='skyblue')\n",
    "plt.xlabel('Importance', fontsize=25, weight = 'bold')\n",
    "plt.ylabel('Features', fontsize=25, weight = 'bold')\n",
    "plt.title('Feature Importance', fontsize=25, weight = 'bold')\n",
    "\n",
    "display(plt.show())\n",
    "display(importances)"
   ]
  },
  {
   "cell_type": "markdown",
   "metadata": {},
   "source": [
    "# PCA - number of components"
   ]
  },
  {
   "cell_type": "code",
   "execution_count": null,
   "metadata": {},
   "outputs": [
    {
     "data": {
      "image/png": "[encoded data removed]",
      "text/plain": [
       "<Figure size 432x288 with 1 Axes>"
      ]
     },
     "metadata": {},
     "output_type": "display_data"
    },
    {
     "data": {
      "text/plain": [
       "None"
      ]
     },
     "metadata": {},
     "output_type": "display_data"
    },
    {
     "data": {
      "text/html": [
       "<div>\n",
       "<style scoped>\n",
       "    .dataframe tbody tr th:only-of-type {\n",
       "        vertical-align: middle;\n",
       "    }\n",
       "\n",
       "    .dataframe tbody tr th {\n",
       "        vertical-align: top;\n",
       "    }\n",
       "\n",
       "    .dataframe thead th {\n",
       "        text-align: right;\n",
       "    }\n",
       "</style>\n",
       "<table border=\"1\" class=\"dataframe\">\n",
       "  <thead>\n",
       "    <tr style=\"text-align: right;\">\n",
       "      <th></th>\n",
       "      <th>Cumulative Variance Ratio</th>\n",
       "      <th>Explained Variance Ratio</th>\n",
       "    </tr>\n",
       "  </thead>\n",
       "  <tbody>\n",
       "    <tr>\n",
       "      <th>0</th>\n",
       "      <td>1.0</td>\n",
       "      <td>1.000000e+00</td>\n",
       "    </tr>\n",
       "    <tr>\n",
       "      <th>1</th>\n",
       "      <td>1.0</td>\n",
       "      <td>5.334648e-12</td>\n",
       "    </tr>\n",
       "    <tr>\n",
       "      <th>2</th>\n",
       "      <td>1.0</td>\n",
       "      <td>2.713400e-12</td>\n",
       "    </tr>\n",
       "    <tr>\n",
       "      <th>3</th>\n",
       "      <td>1.0</td>\n",
       "      <td>2.125537e-12</td>\n",
       "    </tr>\n",
       "    <tr>\n",
       "      <th>4</th>\n",
       "      <td>1.0</td>\n",
       "      <td>1.611188e-12</td>\n",
       "    </tr>\n",
       "    <tr>\n",
       "      <th>5</th>\n",
       "      <td>1.0</td>\n",
       "      <td>1.203963e-12</td>\n",
       "    </tr>\n",
       "    <tr>\n",
       "      <th>6</th>\n",
       "      <td>1.0</td>\n",
       "      <td>1.009500e-12</td>\n",
       "    </tr>\n",
       "    <tr>\n",
       "      <th>7</th>\n",
       "      <td>1.0</td>\n",
       "      <td>9.762353e-13</td>\n",
       "    </tr>\n",
       "    <tr>\n",
       "      <th>8</th>\n",
       "      <td>1.0</td>\n",
       "      <td>8.501116e-13</td>\n",
       "    </tr>\n",
       "    <tr>\n",
       "      <th>9</th>\n",
       "      <td>1.0</td>\n",
       "      <td>6.453851e-13</td>\n",
       "    </tr>\n",
       "  </tbody>\n",
       "</table>\n",
       "</div>"
      ],
      "text/plain": [
       "   Cumulative Variance Ratio  Explained Variance Ratio\n",
       "0                        1.0              1.000000e+00\n",
       "1                        1.0              5.334648e-12\n",
       "2                        1.0              2.713400e-12\n",
       "3                        1.0              2.125537e-12\n",
       "4                        1.0              1.611188e-12\n",
       "5                        1.0              1.203963e-12\n",
       "6                        1.0              1.009500e-12\n",
       "7                        1.0              9.762353e-13\n",
       "8                        1.0              8.501116e-13\n",
       "9                        1.0              6.453851e-13"
      ]
     },
     "metadata": {},
     "output_type": "display_data"
    }
   ],
   "source": [
    "X_train_scaled = scaler.transform(X_train)\n",
    "\n",
    "pca_test = PCA()\n",
    "pca_test.fit(X_train_scaled)\n",
    "\n",
    "sns.set(style='whitegrid')\n",
    "plt.plot(np.cumsum(pca_test.explained_variance_ratio_))\n",
    "plt.xlabel('number of components')\n",
    "plt.ylabel('cumulative explained variance')\n",
    "plt.axvline(linewidth=4, color='r', linestyle = '--', x=60, ymin=0, ymax=1)\n",
    "plt.xlim(0,100)\n",
    "display(plt.show())\n",
    "\n",
    "evr = pca_test.explained_variance_ratio_\n",
    "cvr = np.cumsum(pca_test.explained_variance_ratio_)\n",
    "pca_df = pd.DataFrame()\n",
    "pca_df['Cumulative Variance Ratio'] = cvr\n",
    "pca_df['Explained Variance Ratio'] = evr\n",
    "display(pca_df.head(10))"
   ]
  }
 ],
 "metadata": {
  "interpreter": {
   "hash": "1f77dddae2b6146c630014a5b1bae9bf0cc143f0aba6cb3283963664e55e6774"
  },
  "kernelspec": {
   "display_name": "Python 3.9.10 ('base')",
   "language": "python",
   "name": "python3"
  },
  "language_info": {
   "codemirror_mode": {
    "name": "ipython",
    "version": 3
   },
   "file_extension": ".py",
   "mimetype": "text/x-python",
   "name": "python",
   "nbconvert_exporter": "python",
   "pygments_lexer": "ipython3",
   "version": "3.9.10"
  },
  "orig_nbformat": 4
 },
 "nbformat": 4,
 "nbformat_minor": 2
}
